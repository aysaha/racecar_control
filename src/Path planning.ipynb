{
 "cells": [
  {
   "cell_type": "code",
   "execution_count": 1,
   "metadata": {},
   "outputs": [],
   "source": [
    "%load_ext autoreload\n",
    "%autoreload 2\n",
    "\n",
    "from controllers import plan_trajectory\n",
    "import gym\n",
    "import numpy as np\n",
    "import matplotlib.pyplot as plt"
   ]
  },
  {
   "cell_type": "code",
   "execution_count": 2,
   "metadata": {},
   "outputs": [],
   "source": [
    "gym.logger.set_level(gym.logger.ERROR)\n",
    "env = gym.make('CarRacing-v1', seed=42).env\n",
    "state = env.reset()\n",
    "states, actions, observations = [], [], []\n",
    "done = False"
   ]
  },
  {
   "cell_type": "code",
   "execution_count": 3,
   "metadata": {},
   "outputs": [
    {
     "name": "stdout",
     "output_type": "stream",
     "text": [
      "[planning.py] planning trajectory\n"
     ]
    },
    {
     "data": {
      "text/plain": [
       "(3000,\n",
       " array([[ 2.16983785e+02, -5.13294577e+01,  1.41532152e+00,\n",
       "          2.75502530e+00,  1.75770657e+01,  0.00000000e+00],\n",
       "        [ 2.17038886e+02, -5.09779164e+01,  1.41532152e+00,\n",
       "          2.75502530e+00,  1.75770657e+01,  0.00000000e+00],\n",
       "        [ 2.17093986e+02, -5.06263751e+01,  1.41532152e+00,\n",
       "          2.75502530e+00,  1.75770657e+01,  0.00000000e+00],\n",
       "        ...,\n",
       "        [ 2.16653182e+02, -5.34387056e+01,  1.41532152e+00,\n",
       "          5.51005060e+00,  3.51541314e+01, -2.22044605e-14],\n",
       "        [ 2.16763383e+02, -5.27356230e+01,  1.41532152e+00,\n",
       "          5.51005060e+00,  3.51541314e+01, -3.33066907e-14],\n",
       "        [ 2.16873584e+02, -5.20325404e+01,  1.41532152e+00,\n",
       "          5.51005060e+00,  3.51541314e+01, -2.22044605e-14]]))"
      ]
     },
     "execution_count": 3,
     "metadata": {},
     "output_type": "execute_result"
    }
   ],
   "source": [
    "trajectory = plan_trajectory(env, T=60)\n",
    "len(trajectory), trajectory"
   ]
  },
  {
   "cell_type": "code",
   "execution_count": 4,
   "metadata": {},
   "outputs": [
    {
     "data": {
      "image/png": "[encoded data removed]",
      "text/plain": [
       "<Figure size 432x288 with 1 Axes>"
      ]
     },
     "metadata": {
      "needs_background": "light"
     },
     "output_type": "display_data"
    }
   ],
   "source": [
    "track = trajectory[700:790, :3]\n",
    "plt.plot(track[:, 0], track[:, 1], '-o')\n",
    "plt.show()"
   ]
  },
  {
   "cell_type": "code",
   "execution_count": 5,
   "metadata": {},
   "outputs": [],
   "source": [
    "from casadi import *\n",
    "\n",
    "# track = trajectory[:, :3]\n",
    "z_ref = MX(track.T)\n",
    "N = z_ref.shape[1]\n",
    "\n",
    "Q = MX(np.diag([1, 1, 1]))\n",
    "R = MX(np.eye(2)) / 100000\n",
    "\n",
    "dt = 0.02\n",
    "l = 1"
   ]
  },
  {
   "cell_type": "code",
   "execution_count": 6,
   "metadata": {},
   "outputs": [],
   "source": [
    "opti = casadi.Opti();\n",
    "\n",
    "z = opti.variable(4, N);\n",
    "opti.set_initial(z[:3, :], track.T)\n",
    "\n",
    "u = opti.variable(2, N-1);\n",
    "u_init = np.tile([[0], [.5]], (1, N-1))\n",
    "opti.set_initial(u, u_init)\n",
    "\n",
    "cost = sum([(z[:3, i] - z_ref[:, i]).T @ Q @ (z[:3, i] - z_ref[:, i]) + u[:, i].T @ R @ u[:, i] for i in range(N-1)]) \\\n",
    "        + (z[:3, N-1] - z_ref[:, N-1]).T @ Q @ (z[:3, N-1] - z_ref[:, N-1])\n",
    "\n",
    "opti.minimize(cost);\n",
    "# opti.subject_to(-1 <= u[0, :] <= 1);\n",
    "# opti.subject_to(-1 <= z[2, :] <= 1);\n",
    "# opti.subject_to(-3 <= u[1, :] <= 3);\n",
    "# opti.subject_to(0 <= u[2, :] <= 1);\n",
    "\n",
    "opti.subject_to([(z[0, i+1] - z[0, i]) / dt == u[0, i] * np.cos(z[2, i]) for i in range(N-1)]);\n",
    "opti.subject_to([(z[1, i+1] - z[1, i]) / dt == u[0, i] * np.sin(z[2, i]) for i in range(N-1)]);\n",
    "opti.subject_to([(z[2, i+1] - z[2, i]) / dt == u[0, i] / l * np.tan(z[3, i]) for i in range(N-1)]);\n",
    "opti.subject_to([(z[3, i+1] - z[3, i]) / dt == u[1, i] for i in range(N-1)]);\n",
    "opti.subject_to(u[:, 0] == 0)\n",
    "opti.subject_to(z[:3, 0] == z_ref[:, 0])\n",
    "\n",
    "opti.solver('ipopt');\n",
    "\n",
    "sol = opti.solve();"
   ]
  },
  {
   "cell_type": "code",
   "execution_count": 7,
   "metadata": {},
   "outputs": [],
   "source": [
    "z_opt = sol.value(z)\n",
    "u_opt = sol.value(u)\n",
    "\n",
    "plt.plot(track[:, 0], track[:, 1], '-o')\n",
    "plt.plot(z_opt[0, :], z_opt[1, :], '-+')\n",
    "plt.show()"
   ]
  },
  {
   "cell_type": "code",
   "execution_count": 8,
   "metadata": {},
   "outputs": [],
   "source": [
    "print(u_opt)"
   ]
  },
  {
   "cell_type": "code",
   "execution_count": 9,
   "metadata": {},
   "outputs": [],
   "source": [
    "u_T = u_opt.T\n",
    "racecar_action = np.zeros((N-1, 3))  # third coumn is brake. It is null because \n",
    "# it is not in the bicycle model used in the optimization solve\n",
    "racecar_action[:, 0] = z_opt.T[:-1, 3]  # steering\n",
    "racecar_action[:, 1] = u_T[:, 0]  # throttle\n",
    "\n",
    "racecar_action"
   ]
  },
  {
   "cell_type": "code",
   "execution_count": 10,
   "metadata": {},
   "outputs": [],
   "source": [
    "# for action in racecar_action:\n",
    "#     try:\n",
    "#         # render environment \n",
    "#         env.render()\n",
    "\n",
    "#         observation = env.step(action)\n",
    "#     except KeyboardInterrupt:\n",
    "#         done = True"
   ]
  },
  {
   "cell_type": "code",
   "execution_count": 11,
   "metadata": {},
   "outputs": [],
   "source": [
    "# def f(z, u, model):\n",
    "#     tensor = vertcat(z, u)\n",
    "#     layers = model.get_weights()\n",
    "#     L = len(layers)\n",
    "\n",
    "#     for i in range(0, L, 2):\n",
    "#         weight, bias = MX(layers[i].T), MX(layers[i+1])\n",
    "\n",
    "#         if i < L-2:\n",
    "#             tensor = tanh(weight @ tensor + bias)\n",
    "#         else:\n",
    "#             tensor = weight @ tensor + bias\n",
    "\n",
    "#     return tensor"
   ]
  },
  {
   "cell_type": "code",
   "execution_count": 12,
   "metadata": {},
   "outputs": [
    {
     "name": "stderr",
     "output_type": "stream",
     "text": [
      "Using TensorFlow backend.\n"
     ]
    }
   ],
   "source": [
    "# from learning import load_model"
   ]
  },
  {
   "cell_type": "code",
   "execution_count": 13,
   "metadata": {},
   "outputs": [
    {
     "name": "stdout",
     "output_type": "stream",
     "text": [
      "[learning.py] loading model (../models/dynamics64.h5)\n",
      "__________________________________________________________________________________________________\n",
      "Model: \"dynamics\"\n",
      "__________________________________________________________________________________________________\n",
      "Layer (type)                    Output Shape         Param #     Connected to                     \n",
      "==================================================================================================\n",
      "z (InputLayer)                  (None, 6)            0                                            \n",
      "__________________________________________________________________________________________________\n",
      "u (InputLayer)                  (None, 3)            0                                            \n",
      "__________________________________________________________________________________________________\n",
      "input_layer (Concatenate)       (None, 9)            0           z[0][0]                          \n",
      "                                                                 u[0][0]                          \n",
      "__________________________________________________________________________________________________\n",
      "hidden_layer_1 (Dense)          (None, 64)           640         input_layer[0][0]                \n",
      "__________________________________________________________________________________________________\n",
      "hidden_layer_2 (Dense)          (None, 64)           4160        hidden_layer_1[0][0]             \n",
      "__________________________________________________________________________________________________\n",
      "output_layer (Dense)            (None, 3)            195         hidden_layer_2[0][0]             \n",
      "__________________________________________________________________________________________________\n",
      "f (Reshape)                     (None, 3)            0           output_layer[0][0]               \n",
      "==================================================================================================\n",
      "Total params: 4,995\n",
      "Trainable params: 4,995\n",
      "Non-trainable params: 0\n",
      "__________________________________________________________________________________________________\n",
      "\n"
     ]
    }
   ],
   "source": [
    "# model = load_model(\"../models/dynamics64.h5\")"
   ]
  },
  {
   "cell_type": "code",
   "execution_count": 14,
   "metadata": {},
   "outputs": [],
   "source": [
    "from casadi import *\n",
    "\n",
    "z_ref = MX(track.T)\n",
    "N = z_ref.shape[1]\n",
    "\n",
    "Q = MX(np.diag([1, 1, 1]))\n",
    "R = MX(np.eye(3)) / 100000\n",
    "\n",
    "dt = 0.02"
   ]
  },
  {
   "cell_type": "code",
   "execution_count": 15,
   "metadata": {},
   "outputs": [
    {
     "name": "stdout",
     "output_type": "stream",
     "text": [
      "\n",
      "******************************************************************************\n",
      "This program contains Ipopt, a library for large-scale nonlinear optimization.\n",
      " Ipopt is released as open source code under the Eclipse Public License (EPL).\n",
      "         For more information visit http://projects.coin-or.org/Ipopt\n",
      "******************************************************************************\n",
      "\n",
      "This is Ipopt version 3.12.3, running with linear solver mumps.\n",
      "NOTE: Other linear solvers might be more efficient (see Ipopt documentation).\n",
      "\n",
      "Number of nonzeros in equality constraint Jacobian...:        0\n",
      "Number of nonzeros in inequality constraint Jacobian.:        0\n",
      "Number of nonzeros in Lagrangian Hessian.............:    35778\n",
      "\n",
      "Total number of variables............................:      267\n",
      "                     variables with only lower bounds:        0\n",
      "                variables with lower and upper bounds:        0\n",
      "                     variables with only upper bounds:        0\n",
      "Total number of equality constraints.................:        0\n",
      "Total number of inequality constraints...............:        0\n",
      "        inequality constraints with only lower bounds:        0\n",
      "   inequality constraints with lower and upper bounds:        0\n",
      "        inequality constraints with only upper bounds:        0\n",
      "\n",
      "iter    objective    inf_pr   inf_du lg(mu)  ||d||  lg(rg) alpha_du alpha_pr  ls\n",
      "   0  2.9000648e+04 0.00e+00 1.00e+02  -1.0 0.00e+00    -  0.00e+00 0.00e+00   0\n",
      "   1  2.8999417e+04 0.00e+00 1.00e+02  -1.0 1.00e-06   8.0 1.00e+00 1.00e+00f  1\n",
      "   2  2.8995427e+04 0.00e+00 1.01e+02  -1.0 3.04e-06   7.5 1.00e+00 1.00e+00f  1\n",
      "   3  2.8975679e+04 0.00e+00 1.47e+02  -1.0 1.33e-05   7.0 1.00e+00 1.00e+00f  1\n",
      "   4  2.8965364e+04 0.00e+00 1.66e+02  -1.0 5.68e-06   7.5 1.00e+00 1.00e+00f  1\n",
      "   5  2.8914030e+04 0.00e+00 1.79e+02  -1.0 2.49e-05   7.0 1.00e+00 1.00e+00f  1\n",
      "   6  2.8856245e+04 0.00e+00 7.62e+01  -1.0 3.56e-05   6.5 1.00e+00 1.00e+00f  1\n",
      "   7  2.8806718e+04 0.00e+00 6.49e+01  -1.0 5.99e-05   6.0 1.00e+00 1.00e+00f  1\n",
      "   8  2.8785399e+04 0.00e+00 6.83e+01  -1.0 2.34e-05   6.5 1.00e+00 1.00e+00f  1\n",
      "   9  2.8683252e+04 0.00e+00 8.01e+01  -1.0 1.19e-04   6.0 1.00e+00 1.00e+00f  1\n",
      "iter    objective    inf_pr   inf_du lg(mu)  ||d||  lg(rg) alpha_du alpha_pr  ls\n",
      "  10  2.8592908e+04 0.00e+00 9.39e+01  -1.0 2.03e-04   5.5 1.00e+00 1.00e+00f  1\n",
      "  11  2.8567956e+04 0.00e+00 6.05e+01  -1.0 1.16e-03   5.0 1.00e+00 6.25e-02f  5\n",
      "  12  2.8490843e+04 0.00e+00 7.29e+01  -1.0 1.32e-03   4.6 1.00e+00 1.00e+00f  1\n",
      "  13  2.8383317e+04 0.00e+00 5.38e+01  -1.0 1.66e-04   5.9 1.00e+00 1.00e+00f  1\n",
      "  14  2.8343717e+04 0.00e+00 4.41e+01  -1.0 1.60e-04   5.4 1.00e+00 1.00e+00f  1\n",
      "  15  2.8133713e+04 0.00e+00 1.09e+02  -1.0 7.76e-04   4.9 1.00e+00 1.00e+00f  1\n",
      "  16  2.8049492e+04 0.00e+00 1.35e+02  -1.0 8.22e-05   6.3 1.00e+00 1.00e+00f  1\n",
      "  17  2.8020457e+04 0.00e+00 1.38e+02  -1.0 2.86e-05   6.7 1.00e+00 1.00e+00f  1\n",
      "  18  2.8010016e+04 0.00e+00 1.38e+02  -1.0 1.07e-05   7.1 1.00e+00 1.00e+00f  1\n",
      "  19  2.7982750e+04 0.00e+00 1.39e+02  -1.0 3.23e-05   6.6 1.00e+00 1.00e+00f  1\n",
      "iter    objective    inf_pr   inf_du lg(mu)  ||d||  lg(rg) alpha_du alpha_pr  ls\n",
      "  20  2.7923467e+04 0.00e+00 8.92e+01  -1.0 1.60e-04   6.2 1.00e+00 1.00e+00f  1\n",
      "  21  2.7808549e+04 0.00e+00 1.74e+02  -1.0 2.00e-04   5.7 1.00e+00 1.00e+00f  1\n",
      "  22  2.7785882e+04 0.00e+00 1.35e+02  -1.0 1.87e-04   6.1 1.00e+00 1.00e+00f  1\n",
      "  23  2.7779763e+04 0.00e+00 1.46e+02  -1.0 5.32e-06   7.4 1.00e+00 1.00e+00f  1\n",
      "  24  2.7674866e+04 0.00e+00 2.92e+02  -1.0 3.91e-05   7.0 1.00e+00 1.00e+00f  1\n",
      "  25  2.7456654e+04 0.00e+00 2.20e+02  -1.0 1.79e-04   6.5 1.00e+00 1.00e+00f  1\n",
      "  26  2.7325678e+04 0.00e+00 1.90e+02  -1.0 4.77e-05   6.9 1.00e+00 1.00e+00f  1\n",
      "  27  2.7251298e+04 0.00e+00 1.20e+02  -1.0 4.56e-05   6.4 1.00e+00 1.00e+00f  1\n",
      "  28  2.7137096e+04 0.00e+00 9.93e+01  -1.0 1.17e-04   6.0 1.00e+00 1.00e+00f  1\n",
      "  29  2.7021181e+04 0.00e+00 1.37e+02  -1.0 3.05e-04   5.5 1.00e+00 1.00e+00f  1\n",
      "iter    objective    inf_pr   inf_du lg(mu)  ||d||  lg(rg) alpha_du alpha_pr  ls\n",
      "  30  2.6906013e+04 0.00e+00 3.44e+02  -1.0 8.22e-04   5.0 1.00e+00 1.00e+00f  1\n",
      "  31  2.6725584e+04 0.00e+00 8.13e+01  -1.0 3.81e-04   5.4 1.00e+00 1.00e+00f  1\n",
      "  32  2.6704019e+04 0.00e+00 1.23e+02  -1.0 1.49e-05   6.8 1.00e+00 1.00e+00f  1\n",
      "  33  2.6643311e+04 0.00e+00 3.67e+02  -1.0 2.32e-05   7.2 1.00e+00 1.00e+00f  1\n",
      "  34  2.6598032e+04 0.00e+00 3.87e+02  -1.0 1.13e-05   7.6 1.00e+00 1.00e+00f  1\n",
      "  35  2.6545198e+04 0.00e+00 1.14e+02  -1.0 1.95e-05   7.1 1.00e+00 1.00e+00f  1\n",
      "  36  2.6521626e+04 0.00e+00 8.54e+01  -1.0 1.82e-05   6.7 1.00e+00 1.00e+00f  1\n",
      "  37  2.6459943e+04 0.00e+00 7.59e+01  -1.0 6.01e-05   6.2 1.00e+00 1.00e+00f  1\n",
      "  38  2.6387695e+04 0.00e+00 7.77e+01  -1.0 1.75e-04   5.7 1.00e+00 1.00e+00f  1\n",
      "  39  2.6084745e+04 0.00e+00 3.05e+02  -1.0 7.14e-04   5.2 1.00e+00 1.00e+00f  1\n",
      "iter    objective    inf_pr   inf_du lg(mu)  ||d||  lg(rg) alpha_du alpha_pr  ls\n",
      "  40  2.6068818e+04 0.00e+00 3.22e+02  -1.0 1.13e-05   7.5 1.00e+00 1.00e+00f  1\n",
      "  41  2.5928810e+04 0.00e+00 2.71e+02  -1.0 5.12e-05   7.0 1.00e+00 1.00e+00f  1\n",
      "  42  2.5858858e+04 0.00e+00 2.21e+02  -1.0 7.85e-05   6.5 1.00e+00 1.00e+00f  1\n",
      "  43  2.5700572e+04 0.00e+00 3.12e+02  -1.0 2.11e-04   6.0 1.00e+00 1.00e+00f  1\n",
      "  44  2.5679568e+04 0.00e+00 3.75e+02  -1.0 1.63e-05   7.4 1.00e+00 1.00e+00f  1\n",
      "  45  2.4748202e+04 0.00e+00 2.41e+02  -1.0 4.31e-04   6.9 1.00e+00 1.00e+00f  1\n",
      "  46  2.4694469e+04 0.00e+00 2.94e+02  -1.0 1.56e-05   7.3 1.00e+00 1.00e+00f  1\n",
      "  47  2.4594031e+04 0.00e+00 2.90e+02  -1.0 5.34e-05   6.8 1.00e+00 1.00e+00f  1\n",
      "  48  2.4555764e+04 0.00e+00 1.84e+02  -1.0 5.68e-05   7.2 1.00e+00 1.00e+00f  1\n",
      "  49  2.4552203e+04 0.00e+00 1.80e+02  -1.0 3.79e-06   7.7 1.00e+00 1.00e+00f  1\n",
      "iter    objective    inf_pr   inf_du lg(mu)  ||d||  lg(rg) alpha_du alpha_pr  ls\n",
      "  50  2.4516487e+04 0.00e+00 1.87e+02  -1.0 5.11e-05   7.2 1.00e+00 5.00e-01f  2\n",
      "  51  2.4498286e+04 0.00e+00 1.78e+02  -1.0 3.33e-05   6.7 1.00e+00 1.00e+00f  1\n",
      "  52  2.4455951e+04 0.00e+00 1.11e+02  -1.0 9.03e-05   6.2 1.00e+00 1.00e+00f  1\n",
      "  53  2.4439244e+04 0.00e+00 1.38e+02  -1.0 2.79e-05   6.7 1.00e+00 1.00e+00f  1\n",
      "  54  2.4402820e+04 0.00e+00 9.35e+01  -1.0 8.23e-05   6.2 1.00e+00 1.00e+00f  1\n",
      "  55  2.4388816e+04 0.00e+00 1.14e+02  -1.0 2.74e-05   6.6 1.00e+00 1.00e+00f  1\n",
      "  56  2.4353324e+04 0.00e+00 8.03e+01  -1.0 8.32e-05   6.1 1.00e+00 1.00e+00f  1\n",
      "  57  2.4339644e+04 0.00e+00 1.06e+02  -1.0 2.94e-05   6.6 1.00e+00 1.00e+00f  1\n",
      "  58  2.4296994e+04 0.00e+00 1.10e+02  -1.0 9.82e-05   6.1 1.00e+00 1.00e+00f  1\n",
      "  59  2.4275914e+04 0.00e+00 1.43e+02  -1.0 4.14e-05   6.5 1.00e+00 1.00e+00f  1\n",
      "iter    objective    inf_pr   inf_du lg(mu)  ||d||  lg(rg) alpha_du alpha_pr  ls\n",
      "  60  2.4266380e+04 0.00e+00 1.53e+02  -1.0 1.71e-05   6.9 1.00e+00 1.00e+00f  1\n",
      "  61  2.4208783e+04 0.00e+00 2.37e+02  -1.0 7.04e-05   6.5 1.00e+00 1.00e+00f  1\n",
      "  62  2.4058492e+04 0.00e+00 2.11e+02  -1.0 2.17e-04   6.0 1.00e+00 1.00e+00f  1\n",
      "  63  2.3874953e+04 0.00e+00 2.30e+02  -1.0 2.24e-04   5.5 1.00e+00 1.00e+00f  1\n",
      "  64  2.2620553e+04 0.00e+00 1.88e+02  -1.0 2.38e-03   5.0 1.00e+00 1.00e+00f  1\n",
      "  65  2.2609862e+04 0.00e+00 1.88e+02  -1.0 1.01e-05   7.3 1.00e+00 1.00e+00f  1\n",
      "  66  2.2598321e+04 0.00e+00 1.42e+02  -1.0 4.28e-05   6.8 1.00e+00 1.00e+00f  1\n",
      "  67  2.2582962e+04 0.00e+00 1.31e+02  -1.0 1.15e-05   7.2 1.00e+00 1.00e+00f  1\n",
      "  68  2.2559766e+04 0.00e+00 1.15e+02  -1.0 1.75e-05   6.7 1.00e+00 1.00e+00f  1\n",
      "  69  2.2510620e+04 0.00e+00 9.81e+01  -1.0 5.54e-05   6.3 1.00e+00 1.00e+00f  1\n",
      "iter    objective    inf_pr   inf_du lg(mu)  ||d||  lg(rg) alpha_du alpha_pr  ls\n",
      "  70  2.2403151e+04 0.00e+00 8.50e+01  -1.0 1.42e-04   5.8 1.00e+00 1.00e+00f  1\n",
      "  71  2.2230331e+04 0.00e+00 1.19e+02  -1.0 3.41e-04   5.3 1.00e+00 1.00e+00f  1\n",
      "  72  2.0853429e+04 0.00e+00 4.68e+02  -1.0 1.31e-03   5.7 1.00e+00 1.00e+00f  1\n",
      "  73  2.0810023e+04 0.00e+00 1.45e+02  -1.0 3.73e-05   7.1 1.00e+00 1.00e+00f  1\n",
      "  74  2.0806187e+04 0.00e+00 1.55e+02  -1.0 5.12e-06   7.5 1.00e+00 1.00e+00f  1\n",
      "  75  2.0792694e+04 0.00e+00 1.45e+02  -1.0 1.82e-05   7.0 1.00e+00 1.00e+00f  1\n",
      "  76  2.0772683e+04 0.00e+00 9.43e+01  -1.0 2.91e-05   6.5 1.00e+00 1.00e+00f  1\n",
      "  77  2.0741508e+04 0.00e+00 7.88e+01  -1.0 1.28e-04   6.1 1.00e+00 1.00e+00f  1\n",
      "  78  2.0738663e+04 0.00e+00 8.26e+01  -1.0 3.45e-06   7.4 1.00e+00 1.00e+00f  1\n",
      "  79  2.0729318e+04 0.00e+00 7.35e+01  -1.0 1.14e-05   6.9 1.00e+00 1.00e+00f  1\n"
     ]
    },
    {
     "name": "stdout",
     "output_type": "stream",
     "text": [
      "iter    objective    inf_pr   inf_du lg(mu)  ||d||  lg(rg) alpha_du alpha_pr  ls\n",
      "  80  2.0711298e+04 0.00e+00 5.56e+01  -1.0 2.23e-05   6.4 1.00e+00 1.00e+00f  1\n",
      "  81  2.0677387e+04 0.00e+00 6.16e+01  -1.0 6.87e-05   6.0 1.00e+00 1.00e+00f  1\n",
      "  82  2.0600459e+04 0.00e+00 6.83e+01  -1.0 2.28e-04   5.5 1.00e+00 1.00e+00f  1\n",
      "  83  2.0199234e+04 0.00e+00 1.88e+02  -1.0 8.21e-04   5.0 1.00e+00 1.00e+00f  1\n",
      "  84  2.0047742e+04 0.00e+00 1.82e+02  -1.0 1.27e-04   6.3 1.00e+00 1.00e+00f  1\n",
      "  85  1.9862563e+04 0.00e+00 1.49e+02  -1.0 6.72e-04   5.9 1.00e+00 1.00e+00f  1\n",
      "  86  1.9852913e+04 0.00e+00 1.53e+02  -1.0 1.01e-05   7.2 1.00e+00 1.00e+00f  1\n",
      "  87  1.9822330e+04 0.00e+00 1.79e+02  -1.0 3.69e-05   6.7 1.00e+00 1.00e+00f  1\n",
      "  88  1.9638171e+04 0.00e+00 3.11e+02  -1.0 8.23e-04   6.2 1.00e+00 1.00e+00f  1\n",
      "  89  1.9468393e+04 0.00e+00 8.45e+01  -1.0 1.14e-04   6.7 1.00e+00 1.00e+00f  1\n",
      "iter    objective    inf_pr   inf_du lg(mu)  ||d||  lg(rg) alpha_du alpha_pr  ls\n",
      "  90  1.9423613e+04 0.00e+00 8.78e+01  -1.0 5.69e-05   6.2 1.00e+00 1.00e+00f  1\n",
      "  91  1.9342337e+04 0.00e+00 2.73e+02  -1.0 1.80e-04   5.7 1.00e+00 1.00e+00f  1\n",
      "\n",
      "  93  1.8725792e+04 0.00e+00 4.02e+02  -1.0 1.42e-03   4.7 1.00e+00 1.00e+00f  1\n",
      "  94  1.8711480e+04 0.00e+00 4.96e+02  -1.0 6.61e-06   7.9 1.00e+00 1.00e+00f  1\n",
      "\n",
      "\n",
      "\n",
      "\n",
      "Exception of type: IpoptException in file \"Unknown File\" at line -1:\n",
      " Exception message: Unknown Exception caught in Ipopt\n",
      "      solver  :   t_proc      (avg)   t_wall      (avg)    n_eval\n",
      "       nlp_f  | 175.54ms (  1.57ms) 176.77ms (  1.58ms)       112\n",
      "  nlp_grad_f  | 365.33ms (  3.65ms) 367.64ms (  3.68ms)       100\n",
      "  nlp_hess_l  |  42.89 s (433.24ms)  43.04 s (434.71ms)        99\n",
      "       total  |  44.58 s ( 44.58 s)  44.73 s ( 44.73 s)         1\n"
     ]
    },
    {
     "ename": "RuntimeError",
     "evalue": "Error in Opti::solve [OptiNode] at .../casadi/core/optistack.cpp:159:\n.../casadi/core/optistack_internal.cpp:999: Assertion \"return_success(accept_limit)\" failed:\nSolver failed. You may use opti.debug.value to investigate the latest values of variables. return_status is 'NonIpopt_Exception_Thrown'",
     "output_type": "error",
     "traceback": [
      "\u001b[0;31m---------------------------------------------------------------------------\u001b[0m",
      "\u001b[0;31mRuntimeError\u001b[0m                              Traceback (most recent call last)",
      "\u001b[0;32m<ipython-input-15-04439d494d12>\u001b[0m in \u001b[0;36m<module>\u001b[0;34m\u001b[0m\n\u001b[1;32m     22\u001b[0m \u001b[0mopti\u001b[0m\u001b[0;34m.\u001b[0m\u001b[0msolver\u001b[0m\u001b[0;34m(\u001b[0m\u001b[0;34m'ipopt'\u001b[0m\u001b[0;34m)\u001b[0m\u001b[0;34m;\u001b[0m\u001b[0;34m\u001b[0m\u001b[0;34m\u001b[0m\u001b[0m\n\u001b[1;32m     23\u001b[0m \u001b[0;34m\u001b[0m\u001b[0m\n\u001b[0;32m---> 24\u001b[0;31m \u001b[0msol\u001b[0m \u001b[0;34m=\u001b[0m \u001b[0mopti\u001b[0m\u001b[0;34m.\u001b[0m\u001b[0msolve\u001b[0m\u001b[0;34m(\u001b[0m\u001b[0;34m)\u001b[0m\u001b[0;34m;\u001b[0m\u001b[0;34m\u001b[0m\u001b[0;34m\u001b[0m\u001b[0m\n\u001b[0m",
      "\u001b[0;32m~/.virtualenvs/racecar/lib/python3.7/site-packages/casadi/casadi.py\u001b[0m in \u001b[0;36msolve\u001b[0;34m(self, *args)\u001b[0m\n\u001b[1;32m  27240\u001b[0m \u001b[0;34m\u001b[0m\u001b[0m\n\u001b[1;32m  27241\u001b[0m         \"\"\"\n\u001b[0;32m> 27242\u001b[0;31m         \u001b[0;32mreturn\u001b[0m \u001b[0m_casadi\u001b[0m\u001b[0;34m.\u001b[0m\u001b[0mOpti_solve\u001b[0m\u001b[0;34m(\u001b[0m\u001b[0mself\u001b[0m\u001b[0;34m,\u001b[0m \u001b[0;34m*\u001b[0m\u001b[0margs\u001b[0m\u001b[0;34m)\u001b[0m\u001b[0;34m\u001b[0m\u001b[0;34m\u001b[0m\u001b[0m\n\u001b[0m\u001b[1;32m  27243\u001b[0m \u001b[0;34m\u001b[0m\u001b[0m\n\u001b[1;32m  27244\u001b[0m \u001b[0;34m\u001b[0m\u001b[0m\n",
      "\u001b[0;31mRuntimeError\u001b[0m: Error in Opti::solve [OptiNode] at .../casadi/core/optistack.cpp:159:\n.../casadi/core/optistack_internal.cpp:999: Assertion \"return_success(accept_limit)\" failed:\nSolver failed. You may use opti.debug.value to investigate the latest values of variables. return_status is 'NonIpopt_Exception_Thrown'"
     ]
    }
   ],
   "source": [
    "# opti = casadi.Opti();\n",
    "\n",
    "# u = opti.variable(3, N-1);\n",
    "# u_init = np.tile([[0], [.5], [0]], (1, N-1))\n",
    "# opti.set_initial(u, u_init)\n",
    "\n",
    "# z = MX(6, N)\n",
    "# z[3:, 0] = np.zeros((3, 1))\n",
    "# z[:3, 0] = track.T[:3, 0]\n",
    "# cost = 0\n",
    "\n",
    "# for i in range(N-1):\n",
    "#     cost += (z[:3, i] - z_ref[:, i]).T @ Q @ (z[:3, i] - z_ref[:, i]) + u[:, i].T @ R @ u[:, i]\n",
    "#     # z = f(z, u[:, i:i+1], model)\n",
    "#     z[:3, i+1] = z[:3, i] + z[3:, i] * dt\n",
    "#     z[3:, i+1] = z[3:, i] + f(z[:, i], u[:, i], model) * dt\n",
    "\n",
    "# cost += (z[:3, N-1] - z_ref[:, N-1]).T @ Q @ (z[:3, N-1] - z_ref[:, N-1])\n",
    "\n",
    "# opti.minimize(cost);\n",
    "\n",
    "# opti.solver('ipopt');\n",
    "\n",
    "# sol = opti.solve();"
   ]
  },
  {
   "cell_type": "code",
   "execution_count": null,
   "metadata": {},
   "outputs": [],
   "source": [
    "# u_opt = sol.value(u)\n",
    "\n",
    "# # z = z_0.squeeze()\n",
    "# # zs = [z]\n",
    "\n",
    "# # for i in range(N-1):\n",
    "# #     a = model.predict([z.reshape(1, -1), u_opt[:, i].reshape(1, -1)])[0]\n",
    "# #     z_next = np.zeros((6,))\n",
    "# #     z_next[:3] = z[:3] + z[3:] * dt\n",
    "# #     z_next[3:] = z[3:] + a * dt\n",
    "# #     zs.append(z_next)\n",
    "# #     z = z_next\n",
    "\n",
    "# # zs = np.array(zs)\n",
    "\n",
    "# zs = sol.value(z).T\n",
    "\n",
    "# plt.plot(track[:, 0], track[:, 1], '-o')\n",
    "# plt.plot(zs[:, 0], zs[:, 1], '-+')\n",
    "# plt.show()"
   ]
  }
 ],
 "metadata": {
  "kernelspec": {
   "display_name": "racecar",
   "language": "python",
   "name": "racecar"
  },
  "language_info": {
   "codemirror_mode": {
    "name": "ipython",
    "version": 3
   },
   "file_extension": ".py",
   "mimetype": "text/x-python",
   "name": "python",
   "nbconvert_exporter": "python",
   "pygments_lexer": "ipython3",
   "version": "3.7.2"
  }
 },
 "nbformat": 4,
 "nbformat_minor": 2
}
